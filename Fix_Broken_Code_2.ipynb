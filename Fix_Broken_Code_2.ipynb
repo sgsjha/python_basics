{
  "nbformat": 4,
  "nbformat_minor": 0,
  "metadata": {
    "colab": {
      "provenance": [],
      "authorship_tag": "ABX9TyMW5sR/lqnjQnFtEjlPhaaJ",
      "include_colab_link": true
    },
    "kernelspec": {
      "name": "python3",
      "display_name": "Python 3"
    },
    "language_info": {
      "name": "python"
    }
  },
  "cells": [
    {
      "cell_type": "markdown",
      "metadata": {
        "id": "view-in-github",
        "colab_type": "text"
      },
      "source": [
        "<a href=\"https://colab.research.google.com/github/sgsjha/python_basics/blob/main/Fix_Broken_Code_2.ipynb\" target=\"_parent\"><img src=\"https://colab.research.google.com/assets/colab-badge.svg\" alt=\"Open In Colab\"/></a>"
      ]
    },
    {
      "cell_type": "markdown",
      "source": [
        "# FIX BROKEN CODE EX -2"
      ],
      "metadata": {
        "id": "08sjzD0crTpa"
      }
    },
    {
      "cell_type": "markdown",
      "source": [
        "What's wrong with this code ? : <answer here>"
      ],
      "metadata": {
        "id": "2m3U8JXZrtuh"
      }
    },
    {
      "cell_type": "code",
      "execution_count": null,
      "metadata": {
        "id": "iVaVnQ9Jp3jO"
      },
      "outputs": [],
      "source": [
        "def calculate_area width, height):\n",
        "    area == width * height;\n",
        "  return \"The area is: \" + area\n",
        "\n",
        "print(calculate_area(5, 3))\n",
        "# should output 15"
      ]
    },
    {
      "cell_type": "markdown",
      "source": [
        "What's wrong with this code ? : <answer here>"
      ],
      "metadata": {
        "id": "6hVQsnmzr3i8"
      }
    },
    {
      "cell_type": "code",
      "source": [
        "def factorial(n):\n",
        "    if n == 1:\n",
        "        return 1\n",
        "    else:\n",
        "        return n * factorial(n - 1)\n",
        "        print(\"Calculating factorial...\")\n",
        "\n",
        "print(factorial(5))\n",
        "# should output 120"
      ],
      "metadata": {
        "id": "lkxA7zApr4c0"
      },
      "execution_count": null,
      "outputs": []
    },
    {
      "cell_type": "markdown",
      "source": [
        "What's wrong with this code ? : <answer here>"
      ],
      "metadata": {
        "id": "7vL1tBsqsJPn"
      }
    },
    {
      "cell_type": "code",
      "source": [
        "items = [\"apple\", \"banana\", \"cherry\"]\n",
        "for i in range(len(items)):\n",
        "    print(items(i))\n",
        "# should output :\n",
        "  # apple\n",
        "  # banana\n",
        "  # cherry"
      ],
      "metadata": {
        "id": "3GejQUaAsOtV"
      },
      "execution_count": null,
      "outputs": []
    },
    {
      "cell_type": "markdown",
      "source": [
        "What's wrong with this code ? : <answer here>"
      ],
      "metadata": {
        "id": "2hp9rlqjst6F"
      }
    },
    {
      "cell_type": "code",
      "source": [
        "name = \"Alice\"\n",
        "age = 25\n",
        "print(\"Name: \" + name + \", Age: \" + age)\n",
        "# should output : Name: Alice, Age: 25"
      ],
      "metadata": {
        "id": "CBSFawIksvpu"
      },
      "execution_count": null,
      "outputs": []
    },
    {
      "cell_type": "markdown",
      "source": [
        "What's wrong with this code ? : <answer here>"
      ],
      "metadata": {
        "id": "1cS9jPX7s5tV"
      }
    },
    {
      "cell_type": "code",
      "source": [
        "\n",
        "# This function has multiple issues but is easier to debug.\n",
        "def process_data(data_list):\n",
        "    result = []\n",
        "    for i in ranges(len(data_lits))\n",
        "        if data_list[i] / 2 == 0:\n",
        "            result.appen(\"Even: \" + int(data_list[i+1]]))\n",
        "        else:\n",
        "            result.appen(\"Odd: \" + str(data_list[i-1]))\n",
        "\n",
        "    return result\n",
        "\n",
        "data = [1, 2, 3, 4, 5]\n",
        "print(process_data(data))\n",
        "\n",
        "# Expected Output (if errors are fixed):\n",
        "# ['Odd: 1', 'Even: 2', 'Odd: 3', 'Even: 4', 'Odd: 5']\n"
      ],
      "metadata": {
        "id": "1euekMk_s-Nj"
      },
      "execution_count": null,
      "outputs": []
    },
    {
      "cell_type": "markdown",
      "source": [
        "What's wrong with this code ? : <answer here>"
      ],
      "metadata": {
        "id": "Mp4Tja09xZBY"
      }
    },
    {
      "cell_type": "code",
      "source": [
        "def greet(name):\n",
        "    message = \"Hello, \" + name\n",
        "\n",
        "print(greet(John))\n",
        "# should output : Hello, John"
      ],
      "metadata": {
        "id": "QDa1Zac_xdVb"
      },
      "execution_count": null,
      "outputs": []
    },
    {
      "cell_type": "markdown",
      "source": [
        "What's wrong with this code ? : <answer here>"
      ],
      "metadata": {
        "id": "cXqL2Fb6yMxk"
      }
    },
    {
      "cell_type": "code",
      "source": [
        "# This function processes customer orders and calculates discounts\n",
        "def process_orders(orders):\n",
        "    total_price = 0\n",
        "    for order in orders:\n",
        "        if \"price\" in order and \"quantity\" in order:\n",
        "            total_price += order[\"price\"] * order[quantity]\n",
        "        else:\n",
        "            print(\"Invalid order: \" + order)\n",
        "\n",
        "    discount = 0.1 if total_price > 100 else 0.05\n",
        "    final_price = total_price - total_price * discount\n",
        "    return \"Total after discount: \" + final_price\n",
        "\n",
        "orders = [\n",
        "    {\"item\": \"Laptop\", \"price\": 900, \"quantity\": 1},\n",
        "    {\"item\": \"Mouse\", \"price\": 25, \"quantity\": 2},\n",
        "    {\"item\": \"Keyboard\", \"price\": \"50\", \"quantity\": 1},\n",
        "    {\"item\": \"Monitor\", \"quantity\": 1}\n",
        "]\n",
        "\n",
        "print(process_orders(orders))\n",
        "\n",
        "# Expected Output (if errors are fixed):\n",
        "# 'Total after discount: 927.0'\n"
      ],
      "metadata": {
        "id": "xo_k2aiWyPD_"
      },
      "execution_count": null,
      "outputs": []
    }
  ]
}