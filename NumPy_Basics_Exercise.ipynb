{
  "nbformat": 4,
  "nbformat_minor": 0,
  "metadata": {
    "colab": {
      "provenance": [],
      "include_colab_link": true
    },
    "kernelspec": {
      "name": "python3",
      "display_name": "Python 3"
    },
    "language_info": {
      "name": "python"
    }
  },
  "cells": [
    {
      "cell_type": "markdown",
      "metadata": {
        "id": "view-in-github",
        "colab_type": "text"
      },
      "source": [
        "<a href=\"https://colab.research.google.com/github/sgsjha/python_basics/blob/main/NumPy_Basics_Exercise.ipynb\" target=\"_parent\"><img src=\"https://colab.research.google.com/assets/colab-badge.svg\" alt=\"Open In Colab\"/></a>"
      ]
    },
    {
      "cell_type": "markdown",
      "metadata": {
        "id": "VE2cHlzIuLVT"
      },
      "source": [
        "# 🧮 NumPy Basics - Practice Exercises\n",
        "\n",
        "**Instructions:** Read each task carefully and complete the code blocks using NumPy.\n",
        "Remember to start with:\n",
        "```python\n",
        "import numpy as np\n",
        "```"
      ]
    },
    {
      "cell_type": "markdown",
      "metadata": {
        "id": "8zEt8XiyuLVU"
      },
      "source": [
        "## 🛍️ Task 1: Store Footfall Tracker\n",
        "Create a NumPy array of customer counts over 7 days:\n",
        "`[95, 102, 110, 130, 125, 140, 150]`\n",
        "- Find the average number of customers per day.\n",
        "- Find the highest and lowest footfall."
      ]
    },
    {
      "cell_type": "code",
      "metadata": {
        "id": "SoroU7tnuLVV"
      },
      "source": [
        "# Your code here"
      ],
      "execution_count": null,
      "outputs": []
    },
    {
      "cell_type": "markdown",
      "metadata": {
        "id": "xat9F7uhuLVV"
      },
      "source": [
        "## 📦 Task 2: Inventory Restock Check\n",
        "You have items in stock: `[15, 40, 10, 5, 25]`\n",
        "(sugar, rice, salt, oil, wheat)\n",
        "- Find which items have less than 20 units.\n",
        "- Print how many total items need restocking."
      ]
    },
    {
      "cell_type": "code",
      "metadata": {
        "id": "cfsa1H5GuLVW"
      },
      "source": [
        "# Your code here"
      ],
      "execution_count": null,
      "outputs": []
    },
    {
      "cell_type": "markdown",
      "metadata": {
        "id": "P05EFRS3uLVW"
      },
      "source": [
        "## 📊 Task 3: Weekly Sales Growth\n",
        "This week’s sales (₹): `[1200, 1350, 1600, 1500, 1450, 1550, 1700]`\n",
        "Last week’s sales: `[1000, 1250, 1400, 1300, 1250, 1450, 1600]`\n",
        "- Calculate the daily growth in sales.\n",
        "- Find the average growth.\n",
        "- Print on which days the sales decreased."
      ]
    },
    {
      "cell_type": "code",
      "metadata": {
        "id": "cbUUvVNAuLVW"
      },
      "source": [
        "# Your code here"
      ],
      "execution_count": null,
      "outputs": []
    },
    {
      "cell_type": "markdown",
      "metadata": {
        "id": "WNgW4CozuLVW"
      },
      "source": [
        "## 💸 Task 4: Discounted Prices\n",
        "Prices before discount: `[120, 250, 75, 300, 180]`\n",
        "Apply a 10% discount and print the final prices."
      ]
    },
    {
      "cell_type": "code",
      "metadata": {
        "id": "dpDcBztBuLVW"
      },
      "source": [
        "# Your code here"
      ],
      "execution_count": null,
      "outputs": []
    },
    {
      "cell_type": "markdown",
      "metadata": {
        "id": "GZCpDsNjuLVW"
      },
      "source": [
        "## 🧼 Task 5: Hygiene Product Sales\n",
        "Units sold: `[30, 50, 45, 10, 60]`\n",
        "- Find total items sold.\n",
        "- What percentage of total sales came from the item that sold 60 units?"
      ]
    },
    {
      "cell_type": "code",
      "metadata": {
        "id": "k4qrHIRLuLVX"
      },
      "source": [
        "# Your code here"
      ],
      "execution_count": null,
      "outputs": []
    },
    {
      "cell_type": "markdown",
      "metadata": {
        "id": "u8CHFoqOuLVX"
      },
      "source": [
        "## 🌡️ Bonus Task: Temperature Conversion\n",
        "Temperatures in Celsius: `[25, 30, 28, 27, 32]`\n",
        "- Convert them to Fahrenheit using:\n",
        "  \n",
        "  \\( F = C \\times \\frac{9}{5} + 32 \\)"
      ]
    },
    {
      "cell_type": "code",
      "metadata": {
        "id": "pGoAXvaTuLVX"
      },
      "source": [
        "# Your code here"
      ],
      "execution_count": null,
      "outputs": []
    }
  ]
}