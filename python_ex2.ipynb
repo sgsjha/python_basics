{
  "nbformat": 4,
  "nbformat_minor": 0,
  "metadata": {
    "colab": {
      "provenance": [],
      "authorship_tag": "ABX9TyMtRzR4PRx6mbl6NfTZrAed",
      "include_colab_link": true
    },
    "kernelspec": {
      "name": "python3",
      "display_name": "Python 3"
    },
    "language_info": {
      "name": "python"
    }
  },
  "cells": [
    {
      "cell_type": "markdown",
      "metadata": {
        "id": "view-in-github",
        "colab_type": "text"
      },
      "source": [
        "<a href=\"https://colab.research.google.com/github/sgsjha/python_basics/blob/main/python_ex2.ipynb\" target=\"_parent\"><img src=\"https://colab.research.google.com/assets/colab-badge.svg\" alt=\"Open In Colab\"/></a>"
      ]
    },
    {
      "cell_type": "markdown",
      "source": [
        "# Python Exercises 2"
      ],
      "metadata": {
        "id": "reaLcOQzvWym"
      }
    },
    {
      "cell_type": "markdown",
      "source": [
        "## Exercise 1: Defining Functions\n",
        "### Task:\n",
        "Write a function called `greet` that takes a name as a parameter and returns \"Hello, Yourname!\"."
      ],
      "metadata": {
        "id": "Yeg9DKvyva6l"
      }
    },
    {
      "cell_type": "code",
      "source": [],
      "metadata": {
        "colab": {
          "base_uri": "https://localhost:8080/"
        },
        "id": "qdQwJNo8velp",
        "outputId": "07f01798-1764-4341-e5b2-45769e5b6492"
      },
      "execution_count": 1,
      "outputs": [
        {
          "output_type": "stream",
          "name": "stdout",
          "text": [
            "Hello, Alice!\n"
          ]
        }
      ]
    },
    {
      "cell_type": "markdown",
      "source": [
        "## Exercise 2: Function with Default Parameter\n",
        "### Task:\n",
        "Write a function `power` that takes two arguments: a base and an exponent (default to 2). It should return the base raised to the exponent."
      ],
      "metadata": {
        "id": "4nlbtlaIv0qt"
      }
    },
    {
      "cell_type": "code",
      "source": [],
      "metadata": {
        "colab": {
          "base_uri": "https://localhost:8080/"
        },
        "id": "b3RviQzDv46C",
        "outputId": "9ed0ff35-6bf3-492c-a3ff-97e670079f46"
      },
      "execution_count": 5,
      "outputs": [
        {
          "output_type": "stream",
          "name": "stdout",
          "text": [
            "3 ot the power of 2 =  9\n",
            "3 to the power of 3 =  27\n"
          ]
        }
      ]
    },
    {
      "cell_type": "markdown",
      "source": [
        "## Exercise 3: List Operations\n",
        "### Task:\n",
        "Create a list of five numbers. Write a loop to print each number in the list."
      ],
      "metadata": {
        "id": "yyXAjKNnwh1p"
      }
    },
    {
      "cell_type": "code",
      "source": [],
      "metadata": {
        "colab": {
          "base_uri": "https://localhost:8080/"
        },
        "id": "swwS3Y4Dwiol",
        "outputId": "b34a74d3-a3ac-49f7-de2f-2dd05a8e8046"
      },
      "execution_count": 6,
      "outputs": [
        {
          "output_type": "stream",
          "name": "stdout",
          "text": [
            "1\n",
            "2\n",
            "3\n",
            "4\n",
            "5\n"
          ]
        }
      ]
    },
    {
      "cell_type": "markdown",
      "source": [
        "\n",
        "## Exercise 4: List Modification\n",
        "### Task:\n",
        "Write a function that takes a list and returns a new list with each element squared."
      ],
      "metadata": {
        "id": "kwrHQtDwwmfZ"
      }
    },
    {
      "cell_type": "code",
      "source": [],
      "metadata": {
        "colab": {
          "base_uri": "https://localhost:8080/"
        },
        "id": "q8IvqtaFwoeT",
        "outputId": "5d923767-9191-470c-c6d9-92d377f5e718"
      },
      "execution_count": 10,
      "outputs": [
        {
          "output_type": "stream",
          "name": "stdout",
          "text": [
            "Original list - [1,2,3,4,5]\n",
            "Squared List - [1, 4, 9, 16, 25]\n"
          ]
        }
      ]
    },
    {
      "cell_type": "markdown",
      "source": [
        "## Exercise 5: Looping through a Dictionary\n",
        "### Task:\n",
        "Create a dictionary with three key-value pairs representing a student's name, age, and grade. Write a loop to print each key and its corresponding value."
      ],
      "metadata": {
        "id": "DnNNIiQ2w6Jk"
      }
    },
    {
      "cell_type": "code",
      "source": [],
      "metadata": {
        "colab": {
          "base_uri": "https://localhost:8080/"
        },
        "id": "jsEVuyrLw_QV",
        "outputId": "d73389c5-183f-48e7-a885-856bacd95534"
      },
      "execution_count": 11,
      "outputs": [
        {
          "output_type": "stream",
          "name": "stdout",
          "text": [
            "name: Alice\n",
            "age: 20\n",
            "grade: A\n"
          ]
        }
      ]
    },
    {
      "cell_type": "markdown",
      "source": [
        "## Exercise 6: Nested Loops\n",
        "### Task:\n",
        "Write a function that generates a multiplication table for numbers 1 through 5 using nested loops."
      ],
      "metadata": {
        "id": "t6d8Xd-exHIn"
      }
    },
    {
      "cell_type": "code",
      "source": [],
      "metadata": {
        "colab": {
          "base_uri": "https://localhost:8080/"
        },
        "id": "ZSWqaprpxQHx",
        "outputId": "07e18438-5483-4d03-b2dc-c30c447b98bc"
      },
      "execution_count": 12,
      "outputs": [
        {
          "output_type": "stream",
          "name": "stdout",
          "text": [
            "1 x 1 = 1\n",
            "1 x 2 = 2\n",
            "1 x 3 = 3\n",
            "1 x 4 = 4\n",
            "1 x 5 = 5\n",
            "\n",
            "2 x 1 = 2\n",
            "2 x 2 = 4\n",
            "2 x 3 = 6\n",
            "2 x 4 = 8\n",
            "2 x 5 = 10\n",
            "\n",
            "3 x 1 = 3\n",
            "3 x 2 = 6\n",
            "3 x 3 = 9\n",
            "3 x 4 = 12\n",
            "3 x 5 = 15\n",
            "\n",
            "4 x 1 = 4\n",
            "4 x 2 = 8\n",
            "4 x 3 = 12\n",
            "4 x 4 = 16\n",
            "4 x 5 = 20\n",
            "\n",
            "5 x 1 = 5\n",
            "5 x 2 = 10\n",
            "5 x 3 = 15\n",
            "5 x 4 = 20\n",
            "5 x 5 = 25\n",
            "\n"
          ]
        }
      ]
    },
    {
      "cell_type": "markdown",
      "source": [
        "## Exercise 7: Filtering a List\n",
        "### Task:\n",
        "Write a function that takes a list of numbers and returns a new list containing only even numbers."
      ],
      "metadata": {
        "id": "3Le93BTpxTK0"
      }
    },
    {
      "cell_type": "code",
      "source": [],
      "metadata": {
        "colab": {
          "base_uri": "https://localhost:8080/"
        },
        "id": "BhzyOd_CxW-A",
        "outputId": "dd12f17b-928b-4840-8d8c-2a9167155b4a"
      },
      "execution_count": 17,
      "outputs": [
        {
          "output_type": "stream",
          "name": "stdout",
          "text": [
            "Original list = [1, 2, 3, 4, 5, 6]\n",
            "Filtered List = [2, 4, 6]\n"
          ]
        }
      ]
    }
  ]
}